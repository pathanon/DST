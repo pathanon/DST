{
 "cells": [
  {
   "cell_type": "markdown",
   "metadata": {},
   "source": [
    "# Chapter 1 : Python Objects, Types, and Expressions"
   ]
  },
  {
   "cell_type": "markdown",
   "metadata": {},
   "source": [
    "python contains 12 built-in data types including:\n",
    "1. 4 numeric types; (int, float, complex, bool)\n",
    "2. 4 sequence types; (str, list, tuple, range)\n",
    "3. 1 mapping type; (dict)\n",
    "4. 2 set types;\n",
    "5. 1 user-defined objects; (def func)\n",
    "\n",
    "all of them are \"$\\bold{objects}$\" which will contain \"$\\bold{type, value,identity}$\". \n",
    "\n",
    "Also, there are a number of ways to $\\bold{\\red{compare}}$ objects, for example:\n"
   ]
  },
  {
   "cell_type": "code",
   "execution_count": null,
   "metadata": {},
   "outputs": [],
   "source": [
    "if a== b: #a and b have the same value\n",
    "if a is b: # if a and b are the same object\n",
    "if type(a) is type(b): # a and b are the same type"
   ]
  },
  {
   "cell_type": "markdown",
   "metadata": {},
   "source": [
    "## 1.1 Strings"
   ]
  },
  {
   "cell_type": "markdown",
   "metadata": {},
   "source": [
    "Strings are $\\red{\\text{immutable sequence objects}}$, which each character representing an element in the sequence. Here is common list of some of the most commonly used string methods and their descriptions:"
   ]
  },
  {
   "cell_type": "markdown",
   "metadata": {},
   "source": [
    "| Methods| Descriptions |\n",
    "| --- | --- |\n",
    "|s.count(substring, [start,end]) | Counts the occurrences of a substring with optional start and end parameters. |\n",
    "|s.expandtabs([tabsize]) | Replaces tabs with spaces. |\n",
    "|s.find(substring, [start, end]) | Returns the index of the first occurrence of a substring or returns -1 if the substring is not found.|\n",
    "|s.isalnum() | Returns True if all characters are alphanumeric, returns False otherwise.|\n",
    "|s.isalpha() | Returns True if all characters are alphabetic, returns False otherwise.|\n",
    "|s.isdigit() | Returns True if all characters are digits, returns False otherwise.|\n",
    "|s.join(t) | Joins the strings in sequence t.|\n",
    "|s.lower() | Converts the string to all lowercase.|\n",
    "|s.replace(old, new [maxreplace]) | Replaces old substring with new substring.|\n",
    "|s.strip([characters]) | Removes whitespace or optional characters.|\n",
    "|s.split([separator], [maxsplit]) | Splits a string separated by whitespace or an optional separator. Returns a list.|"
   ]
  },
  {
   "cell_type": "code",
   "execution_count": 6,
   "metadata": {},
   "outputs": [
    {
     "name": "stdout",
     "output_type": "stream",
     "text": [
      "the number of time that ... Hello ... exists in the sequence : 1\n",
      "the number of time that ... hello ... exists in the sequence : 0\n"
     ]
    }
   ],
   "source": [
    "s = \"Hello Monday Idiot\"\n",
    "word1 = \"Hello\"\n",
    "word2 = \"hello\"\n",
    "char1 = \"d\"\n",
    "print(f\"the number of time that ... {word1} ... exists in the sequence : {s.count(word1)}\")\n",
    "print(f\"the number of time that ... {word2} ... exists in the sequence : {s.count(word2)}\")\n"
   ]
  },
  {
   "cell_type": "markdown",
   "metadata": {},
   "source": [
    "## 1.2 Lists"
   ]
  },
  {
   "cell_type": "code",
   "execution_count": null,
   "metadata": {},
   "outputs": [],
   "source": [
    "# test 01"
   ]
  },
  {
   "cell_type": "markdown",
   "metadata": {},
   "source": [
    "## 1.3 Functions as first class objects"
   ]
  },
  {
   "cell_type": "code",
   "execution_count": null,
   "metadata": {},
   "outputs": [],
   "source": [
    "# test 01"
   ]
  },
  {
   "cell_type": "markdown",
   "metadata": {},
   "source": [
    "## 1.4 Higher order functions"
   ]
  },
  {
   "cell_type": "code",
   "execution_count": null,
   "metadata": {},
   "outputs": [],
   "source": [
    "# test 01"
   ]
  },
  {
   "cell_type": "markdown",
   "metadata": {},
   "source": [
    "## 1.5 Recursive functions"
   ]
  },
  {
   "cell_type": "code",
   "execution_count": null,
   "metadata": {},
   "outputs": [],
   "source": [
    "# test 01"
   ]
  },
  {
   "cell_type": "markdown",
   "metadata": {},
   "source": [
    "## 1.6 Generators and co-routines"
   ]
  },
  {
   "cell_type": "code",
   "execution_count": null,
   "metadata": {},
   "outputs": [],
   "source": [
    "# test 01"
   ]
  },
  {
   "cell_type": "markdown",
   "metadata": {},
   "source": [
    "## 1.7 Classes and oject programming"
   ]
  },
  {
   "cell_type": "code",
   "execution_count": null,
   "metadata": {},
   "outputs": [],
   "source": [
    "# test 01"
   ]
  },
  {
   "cell_type": "markdown",
   "metadata": {},
   "source": [
    "## 1.8 Special methods"
   ]
  },
  {
   "cell_type": "code",
   "execution_count": null,
   "metadata": {},
   "outputs": [],
   "source": [
    "# test 01"
   ]
  },
  {
   "cell_type": "markdown",
   "metadata": {},
   "source": [
    "### 1.8.1 Inheritance"
   ]
  },
  {
   "cell_type": "code",
   "execution_count": null,
   "metadata": {},
   "outputs": [],
   "source": [
    "# test 01"
   ]
  },
  {
   "cell_type": "markdown",
   "metadata": {},
   "source": [
    "### 1.8.2 Data encapsulation and properties"
   ]
  },
  {
   "cell_type": "code",
   "execution_count": null,
   "metadata": {},
   "outputs": [],
   "source": [
    "# test 01"
   ]
  }
 ],
 "metadata": {
  "kernelspec": {
   "display_name": "base",
   "language": "python",
   "name": "python3"
  },
  "language_info": {
   "codemirror_mode": {
    "name": "ipython",
    "version": 3
   },
   "file_extension": ".py",
   "mimetype": "text/x-python",
   "name": "python",
   "nbconvert_exporter": "python",
   "pygments_lexer": "ipython3",
   "version": "3.10.8"
  }
 },
 "nbformat": 4,
 "nbformat_minor": 2
}
